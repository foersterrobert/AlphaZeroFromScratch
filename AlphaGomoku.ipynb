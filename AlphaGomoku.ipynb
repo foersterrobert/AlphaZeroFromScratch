{
 "cells": [
  {
   "cell_type": "code",
   "execution_count": 1,
   "id": "2d090f5e",
   "metadata": {
    "scrolled": true
   },
   "outputs": [
    {
     "data": {
      "text/plain": [
       "('2.0.1', device(type='cpu'))"
      ]
     },
     "execution_count": 1,
     "metadata": {},
     "output_type": "execute_result"
    }
   ],
   "source": [
    "from modules.resnet import Node\n",
    "from modules.resnet import ResNet\n",
    "from modules.mcts import MCTS\n",
    "from modules.alphazero import AlphaZeroParallel\n",
    "\n",
    "from modules.game.gomoku import Gomoku\n",
    "from modules.game.tictactoe import TicTacToe\n",
    "from modules.game.connectfour import ConnectFour\n",
    "\n",
    "import matplotlib.pyplot as plt\n",
    "import torch\n",
    "import numpy as np\n",
    "\n",
    "torch.manual_seed(0)\n",
    "device = torch.device(\"cuda\" if torch.cuda.is_available() else \"cpu\")\n",
    "\n",
    "torch.__version__, device"
   ]
  },
  {
   "cell_type": "code",
   "execution_count": 2,
   "id": "797c3205",
   "metadata": {},
   "outputs": [
    {
     "name": "stdout",
     "output_type": "stream",
     "text": [
      "-0.09683775901794434\n",
      "[[ 0.  0. -1.  0. -1.]\n",
      " [ 0.  1.  0.  1.  0.]\n",
      " [ 0.  0.  0.  0.  0.]\n",
      " [ 0.  0.  0.  0.  0.]\n",
      " [ 0.  0.  0.  0.  0.]]\n",
      "tensor([[[[0., 0., 1., 0., 1.],\n",
      "          [0., 0., 0., 0., 0.],\n",
      "          [0., 0., 0., 0., 0.],\n",
      "          [0., 0., 0., 0., 0.],\n",
      "          [0., 0., 0., 0., 0.]],\n",
      "\n",
      "         [[1., 1., 0., 1., 0.],\n",
      "          [1., 0., 1., 0., 1.],\n",
      "          [1., 1., 1., 1., 1.],\n",
      "          [1., 1., 1., 1., 1.],\n",
      "          [1., 1., 1., 1., 1.]],\n",
      "\n",
      "         [[0., 0., 0., 0., 0.],\n",
      "          [0., 1., 0., 1., 0.],\n",
      "          [0., 0., 0., 0., 0.],\n",
      "          [0., 0., 0., 0., 0.],\n",
      "          [0., 0., 0., 0., 0.]]]])\n"
     ]
    },
    {
     "data": {
      "image/png": "[encoded data removed]",
      "text/plain": [
       "<Figure size 640x480 with 1 Axes>"
      ]
     },
     "metadata": {},
     "output_type": "display_data"
    }
   ],
   "source": [
    "game = Gomoku()\n",
    "\n",
    "state = game.get_initial_state()\n",
    "state = game.get_next_state(state, 2, -1)\n",
    "state = game.get_next_state(state, 4, -1)\n",
    "state = game.get_next_state(state, 6, 1)\n",
    "state = game.get_next_state(state, 8, 1)\n",
    "\n",
    "encoded_state = game.get_encoded_state(state)\n",
    "tensor_state = torch.tensor(encoded_state, device=device).unsqueeze(0)\n",
    "\n",
    "model = ResNet(game, 4, 64, device=device)\n",
    "# model.load_state_dict(torch.load('model_2.pt', map_location=device))\n",
    "model.eval()\n",
    "\n",
    "policy, value = model(tensor_state)\n",
    "value = value.item()\n",
    "policy = torch.softmax(policy, axis=1).squeeze(0).detach().cpu().numpy()\n",
    "\n",
    "print(value)\n",
    "print(state)\n",
    "print(tensor_state)\n",
    "\n",
    "plt.bar(range(game.action_size), policy)\n",
    "plt.show()"
   ]
  },
  {
   "cell_type": "code",
   "execution_count": 3,
   "id": "c55b393e",
   "metadata": {},
   "outputs": [
    {
     "data": {
      "application/vnd.jupyter.widget-view+json": {
       "model_id": "aea0f02d468d43c9bf4fd79b47396f81",
       "version_major": 2,
       "version_minor": 0
      },
      "text/plain": [
       "  0%|          | 0/5 [00:00<?, ?it/s]"
      ]
     },
     "metadata": {},
     "output_type": "display_data"
    }
   ],
   "source": [
    "device = torch.device(\"cuda\" if torch.cuda.is_available() else \"cpu\")\n",
    "model = ResNet(game, 4, 64, device)\n",
    "optimizer = torch.optim.Adam(model.parameters(), lr=0.001, weight_decay=0.0001)\n",
    "\n",
    "args = {\n",
    "    'C': 2,\n",
    "    'num_searches': 60,\n",
    "    'num_iterations': 3,\n",
    "    'num_selfPlay_iterations': 500,\n",
    "    'num_parallel_games': 100,\n",
    "    'num_epochs': 4,\n",
    "    'batch_size': 64,\n",
    "    'temperature': 1.25,\n",
    "    'dirichlet_epsilon': 0.25,\n",
    "    'dirichlet_alpha': 0.3\n",
    "}\n",
    "\n",
    "alphaZero = AlphaZeroParallel(model, optimizer, game, args)\n",
    "alphaZero.learn()"
   ]
  },
  {
   "cell_type": "code",
   "execution_count": 5,
   "id": "7c470145",
   "metadata": {
    "scrolled": true
   },
   "outputs": [],
   "source": [
    "def play_game(game, args, player=1):\n",
    "    device = torch.device(\"cuda\" if torch.cuda.is_available() else \"cpu\")\n",
    "\n",
    "    model = ResNet(game, 4, 64, device)\n",
    "    model.load_state_dict(torch.load(f\"models/{game}/model_{args['C']}.pt\", map_location=device))\n",
    "    model.eval()\n",
    "\n",
    "    mcts = MCTS(game, args, model)\n",
    "    state = game.get_initial_state()\n",
    "\n",
    "    while True:\n",
    "        print(state)\n",
    "        \n",
    "        if player == 1:\n",
    "            valid_moves = game.get_valid_moves(state)\n",
    "            print(\"valid_moves\", [i for i in range(game.action_size) if valid_moves[i] == 1])\n",
    "            action = int(input(f\"{player}:\"))\n",
    "\n",
    "            if valid_moves[action] == 0:\n",
    "                print(\"action not valid\")\n",
    "                continue\n",
    "                \n",
    "        else:\n",
    "            neutral_state = game.change_perspective(state, player)\n",
    "            mcts_probs = mcts.search(neutral_state)\n",
    "            action = np.argmax(mcts_probs)\n",
    "            \n",
    "        state = game.get_next_state(state, action, player)\n",
    "        \n",
    "        value, is_terminal = game.get_value_and_terminated(state, action)\n",
    "        \n",
    "        if is_terminal:\n",
    "            print(state)\n",
    "            if value == 1:\n",
    "                print(player, \"won\")\n",
    "            else:\n",
    "                print(\"draw\")\n",
    "            break\n",
    "            \n",
    "        player = game.get_opponent(player)"
   ]
  },
  {
   "cell_type": "code",
   "execution_count": 7,
   "id": "f6972bfb",
   "metadata": {},
   "outputs": [
    {
     "name": "stdout",
     "output_type": "stream",
     "text": [
      "[[0. 0. 0.]\n",
      " [0. 0. 0.]\n",
      " [0. 0. 0.]]\n",
      "valid_moves [0, 1, 2, 3, 4, 5, 6, 7, 8]\n",
      "[[0. 0. 0.]\n",
      " [1. 0. 0.]\n",
      " [0. 0. 0.]]\n",
      "[[ 0.  0.  0.]\n",
      " [ 1. -1.  0.]\n",
      " [ 0.  0.  0.]]\n",
      "valid_moves [0, 1, 2, 5, 6, 7, 8]\n",
      "[[ 0.  0.  0.]\n",
      " [ 1. -1.  1.]\n",
      " [ 0.  0.  0.]]\n",
      "[[ 0.  0.  0.]\n",
      " [ 1. -1.  1.]\n",
      " [ 0. -1.  0.]]\n",
      "valid_moves [0, 1, 2, 6, 8]\n",
      "[[ 0.  0.  1.]\n",
      " [ 1. -1.  1.]\n",
      " [ 0. -1.  0.]]\n",
      "[[ 0.  0.  1.]\n",
      " [ 1. -1.  1.]\n",
      " [ 0. -1. -1.]]\n",
      "valid_moves [0, 1, 6]\n",
      "action not valid\n",
      "[[ 0.  0.  1.]\n",
      " [ 1. -1.  1.]\n",
      " [ 0. -1. -1.]]\n",
      "valid_moves [0, 1, 6]\n",
      "action not valid\n",
      "[[ 0.  0.  1.]\n",
      " [ 1. -1.  1.]\n",
      " [ 0. -1. -1.]]\n",
      "valid_moves [0, 1, 6]\n",
      "action not valid\n",
      "[[ 0.  0.  1.]\n",
      " [ 1. -1.  1.]\n",
      " [ 0. -1. -1.]]\n",
      "valid_moves [0, 1, 6]\n",
      "[[ 0.  1.  1.]\n",
      " [ 1. -1.  1.]\n",
      " [ 0. -1. -1.]]\n",
      "[[-1.  1.  1.]\n",
      " [ 1. -1.  1.]\n",
      " [ 0. -1. -1.]]\n",
      "-1 won\n"
     ]
    }
   ],
   "source": [
    "play_game(Gomoku(), {\n",
    "    'C': 2,\n",
    "    'num_searches': 1000,\n",
    "    'dirichlet_epsilon': 0.25,\n",
    "    'dirichlet_alpha': 0.3\n",
    "})"
   ]
  }
 ],
 "metadata": {
  "kernelspec": {
   "display_name": "Python 3.9.6 64-bit",
   "language": "python",
   "name": "python3"
  },
  "language_info": {
   "codemirror_mode": {
    "name": "ipython",
    "version": 3
   },
   "file_extension": ".py",
   "mimetype": "text/x-python",
   "name": "python",
   "nbconvert_exporter": "python",
   "pygments_lexer": "ipython3",
   "version": "3.9.6"
  },
  "vscode": {
   "interpreter": {
    "hash": "31f2aee4e71d21fbe5cf8b01ff0e069b9275f58929596ceb00d14d90e3e16cd6"
   }
  }
 },
 "nbformat": 4,
 "nbformat_minor": 5
}
